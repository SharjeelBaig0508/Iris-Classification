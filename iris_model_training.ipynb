{
  "nbformat": 4,
  "nbformat_minor": 0,
  "metadata": {
    "kernelspec": {
      "name": "python3",
      "display_name": "Python 3"
    },
    "colab": {
      "name": "iris_model_training.ipynb",
      "provenance": [],
      "collapsed_sections": [],
      "toc_visible": true
    },
    "accelerator": "TPU"
  },
  "cells": [
    {
      "cell_type": "markdown",
      "metadata": {
        "id": "VUisLn6za_qW",
        "colab_type": "text"
      },
      "source": [
        "# ASSIGNMENT : IRIS MULTI-CLASS CLASSIFICATION\n",
        "\n",
        "###### Purpose :\n",
        "To predict the species of flower .\n",
        "###### Description :\n",
        "The dataset contains a set of 150 records under 5 attributes - Petal Length, Petal Width, Sepal Length, Sepal width and Class(Species).\n",
        "###### Requirements :\n",
        "1) Code must be in tf 2.0 .\n",
        "\n",
        "2) Accuracy must be in between 95-97% .\n",
        "\n",
        "3) Model shouldn't be Overfit (You can add drop out layer for this) ."
      ]
    },
    {
      "cell_type": "markdown",
      "metadata": {
        "id": "8x1NRl-fa_qg",
        "colab_type": "text"
      },
      "source": [
        "### STEP 1 : Load all the necessary libraries "
      ]
    },
    {
      "cell_type": "code",
      "metadata": {
        "id": "4PzkaQDDa_ql",
        "colab_type": "code",
        "outputId": "b099b656-72a1-4b0e-f1c5-75830578dd87",
        "colab": {
          "base_uri": "https://localhost:8080/",
          "height": 34
        }
      },
      "source": [
        "import matplotlib.pyplot as plt\n",
        "import pandas as pd\n",
        "import numpy as np\n",
        "import tensorflow as tf\n",
        "if tf.__version__ < \"2.0.0\":\n",
        "  !pip install --upgrade tensorflow_gpu==2.0\n",
        "print(tf.__version__)"
      ],
      "execution_count": 1,
      "outputs": [
        {
          "output_type": "stream",
          "text": [
            "2.0.0\n"
          ],
          "name": "stdout"
        }
      ]
    },
    {
      "cell_type": "markdown",
      "metadata": {
        "id": "49resuTCa_q3",
        "colab_type": "text"
      },
      "source": [
        "### STEP 2 : Data Preparation\n",
        "This step consists of multiple sub steps from data loading [download](https://github.com/ramsha275/PIAIC-Sir-Anees-Quarter-2/blob/master/Deep%20Learning/iris.csv),shuffling ,spliting in **Train** and **Test** sets to one-hot-enconding on labels . \n"
      ]
    },
    {
      "cell_type": "code",
      "metadata": {
        "id": "fymrwawba_q6",
        "colab_type": "code",
        "colab": {}
      },
      "source": [
        "data_url = \"https://github.com/ramsha275/PIAIC-Sir-Anees-Quarter-2/raw/master/Deep%20Learning/iris.csv\"\n",
        "data_file_iris = pd.read_csv(data_url)"
      ],
      "execution_count": 0,
      "outputs": []
    },
    {
      "cell_type": "code",
      "metadata": {
        "id": "ZanyFt0hhCdt",
        "colab_type": "code",
        "colab": {}
      },
      "source": [
        "sampler = np.random.permutation(150)\n",
        "shuffled_file_iris = data_file_iris.take(sampler)\n",
        "train_data = shuffled_file_iris[:120]\n",
        "test_data = shuffled_file_iris[120:]"
      ],
      "execution_count": 0,
      "outputs": []
    },
    {
      "cell_type": "code",
      "metadata": {
        "id": "rgndKw05kyQ1",
        "colab_type": "code",
        "outputId": "ea23a47e-c31b-4ef8-dcbb-866f01dcd893",
        "colab": {
          "base_uri": "https://localhost:8080/",
          "height": 69
        }
      },
      "source": [
        "column_names = list(data_file_iris.columns)\n",
        "print(column_names)\n",
        "features_names = column_names[:-1]\n",
        "label_name = column_names[-1]\n",
        "print(features_names)\n",
        "print(label_name)"
      ],
      "execution_count": 4,
      "outputs": [
        {
          "output_type": "stream",
          "text": [
            "['sepal.length', 'sepal.width', 'petal.length', 'petal.width', 'variety']\n",
            "['sepal.length', 'sepal.width', 'petal.length', 'petal.width']\n",
            "variety\n"
          ],
          "name": "stdout"
        }
      ]
    },
    {
      "cell_type": "code",
      "metadata": {
        "id": "DZVMnFTvl1Qs",
        "colab_type": "code",
        "outputId": "67f39890-4118-42ed-dc4c-c24ae0d57e13",
        "colab": {
          "base_uri": "https://localhost:8080/",
          "height": 34
        }
      },
      "source": [
        "class_names = data_file_iris['variety'].unique()\n",
        "print(class_names)"
      ],
      "execution_count": 5,
      "outputs": [
        {
          "output_type": "stream",
          "text": [
            "['Setosa' 'Versicolor' 'Virginica']\n"
          ],
          "name": "stdout"
        }
      ]
    },
    {
      "cell_type": "code",
      "metadata": {
        "id": "JzFfMmwMzsRo",
        "colab_type": "code",
        "outputId": "4bd649aa-3e4d-46b4-80bd-3f55c6cf81ec",
        "colab": {
          "base_uri": "https://localhost:8080/",
          "height": 1000
        }
      },
      "source": [
        "train_features, train_labels = train_data[features_names], train_data[label_name]\n",
        "test_features, test_labels = test_data[features_names], test_data[label_name]\n",
        "print(train_features)\n",
        "print(train_labels)\n",
        "print(test_features)\n",
        "print(test_labels)"
      ],
      "execution_count": 6,
      "outputs": [
        {
          "output_type": "stream",
          "text": [
            "     sepal.length  sepal.width  petal.length  petal.width\n",
            "60            5.0          2.0           3.5          1.0\n",
            "1             4.9          3.0           1.4          0.2\n",
            "71            6.1          2.8           4.0          1.3\n",
            "12            4.8          3.0           1.4          0.1\n",
            "21            5.1          3.7           1.5          0.4\n",
            "..            ...          ...           ...          ...\n",
            "121           5.6          2.8           4.9          2.0\n",
            "92            5.8          2.6           4.0          1.2\n",
            "37            4.9          3.6           1.4          0.1\n",
            "59            5.2          2.7           3.9          1.4\n",
            "109           7.2          3.6           6.1          2.5\n",
            "\n",
            "[120 rows x 4 columns]\n",
            "60     Versicolor\n",
            "1          Setosa\n",
            "71     Versicolor\n",
            "12         Setosa\n",
            "21         Setosa\n",
            "          ...    \n",
            "121     Virginica\n",
            "92     Versicolor\n",
            "37         Setosa\n",
            "59     Versicolor\n",
            "109     Virginica\n",
            "Name: variety, Length: 120, dtype: object\n",
            "     sepal.length  sepal.width  petal.length  petal.width\n",
            "2             4.7          3.2           1.3          0.2\n",
            "55            5.7          2.8           4.5          1.3\n",
            "15            5.7          4.4           1.5          0.4\n",
            "117           7.7          3.8           6.7          2.2\n",
            "98            5.1          2.5           3.0          1.1\n",
            "146           6.3          2.5           5.0          1.9\n",
            "41            4.5          2.3           1.3          0.3\n",
            "137           6.4          3.1           5.5          1.8\n",
            "91            6.1          3.0           4.6          1.4\n",
            "88            5.6          3.0           4.1          1.3\n",
            "85            6.0          3.4           4.5          1.6\n",
            "25            5.0          3.0           1.6          0.2\n",
            "46            5.1          3.8           1.6          0.2\n",
            "94            5.6          2.7           4.2          1.3\n",
            "65            6.7          3.1           4.4          1.4\n",
            "134           6.1          2.6           5.6          1.4\n",
            "136           6.3          3.4           5.6          2.4\n",
            "19            5.1          3.8           1.5          0.3\n",
            "115           6.4          3.2           5.3          2.3\n",
            "0             5.1          3.5           1.4          0.2\n",
            "78            6.0          2.9           4.5          1.5\n",
            "49            5.0          3.3           1.4          0.2\n",
            "76            6.8          2.8           4.8          1.4\n",
            "140           6.7          3.1           5.6          2.4\n",
            "56            6.3          3.3           4.7          1.6\n",
            "45            4.8          3.0           1.4          0.3\n",
            "135           7.7          3.0           6.1          2.3\n",
            "74            6.4          2.9           4.3          1.3\n",
            "7             5.0          3.4           1.5          0.2\n",
            "66            5.6          3.0           4.5          1.5\n",
            "2          Setosa\n",
            "55     Versicolor\n",
            "15         Setosa\n",
            "117     Virginica\n",
            "98     Versicolor\n",
            "146     Virginica\n",
            "41         Setosa\n",
            "137     Virginica\n",
            "91     Versicolor\n",
            "88     Versicolor\n",
            "85     Versicolor\n",
            "25         Setosa\n",
            "46         Setosa\n",
            "94     Versicolor\n",
            "65     Versicolor\n",
            "134     Virginica\n",
            "136     Virginica\n",
            "19         Setosa\n",
            "115     Virginica\n",
            "0          Setosa\n",
            "78     Versicolor\n",
            "49         Setosa\n",
            "76     Versicolor\n",
            "140     Virginica\n",
            "56     Versicolor\n",
            "45         Setosa\n",
            "135     Virginica\n",
            "74     Versicolor\n",
            "7          Setosa\n",
            "66     Versicolor\n",
            "Name: variety, dtype: object\n"
          ],
          "name": "stdout"
        }
      ]
    },
    {
      "cell_type": "code",
      "metadata": {
        "id": "PUQdLL0hT0mt",
        "colab_type": "code",
        "outputId": "89b41305-3f11-4626-9668-f0b98a3e0ba7",
        "colab": {
          "base_uri": "https://localhost:8080/",
          "height": 176
        }
      },
      "source": [
        "from sklearn.preprocessing import LabelEncoder\n",
        "from sklearn.preprocessing import OneHotEncoder\n",
        "# Label encode Class (Species)\n",
        "encoder = LabelEncoder()\n",
        "new_label = encoder.fit_transform(class_names)\n",
        "print(new_label)\n",
        "# One Hot Encodeone\n",
        "onehot_encoder = OneHotEncoder(sparse=False)\n",
        "new_label = new_label.reshape(len(new_label), 1)\n",
        "onehot_encoded = onehot_encoder.fit_transform(new_label)\n",
        "print(onehot_encoded)"
      ],
      "execution_count": 7,
      "outputs": [
        {
          "output_type": "stream",
          "text": [
            "[0 1 2]\n",
            "[[1. 0. 0.]\n",
            " [0. 1. 0.]\n",
            " [0. 0. 1.]]\n"
          ],
          "name": "stdout"
        },
        {
          "output_type": "stream",
          "text": [
            "/usr/local/lib/python3.6/dist-packages/sklearn/preprocessing/_encoders.py:415: FutureWarning: The handling of integer data will change in version 0.22. Currently, the categories are determined based on the range [0, max(values)], while in the future they will be determined based on the unique values.\n",
            "If you want the future behaviour and silence this warning, you can specify \"categories='auto'\".\n",
            "In case you used a LabelEncoder before this OneHotEncoder to convert the categories to integers, then you can now use the OneHotEncoder directly.\n",
            "  warnings.warn(msg, FutureWarning)\n"
          ],
          "name": "stderr"
        }
      ]
    },
    {
      "cell_type": "code",
      "metadata": {
        "id": "4fq1E0wDT9-k",
        "colab_type": "code",
        "outputId": "94568ec4-0b5d-4ba1-cbd2-bcb8361b0bb0",
        "colab": {
          "base_uri": "https://localhost:8080/",
          "height": 279
        }
      },
      "source": [
        "# plt.plot(features['petal.length'], features['sepal.length'])\n",
        "plt.scatter(train_features['petal.length'],\n",
        "            train_features['sepal.length'],\n",
        "            cmap='viridis')\n",
        "plt.scatter(test_features['petal.length'],\n",
        "            test_features['sepal.length'],\n",
        "            cmap='viridis')\n",
        "plt.xlabel(\"Petal length\")\n",
        "plt.ylabel(\"Sepal length\")\n",
        "plt.show()"
      ],
      "execution_count": 8,
      "outputs": [
        {
          "output_type": "display_data",
          "data": {
            "image/png": "[encoded data removed]",
            "text/plain": [
              "<Figure size 432x288 with 1 Axes>"
            ]
          },
          "metadata": {
            "tags": []
          }
        }
      ]
    },
    {
      "cell_type": "markdown",
      "metadata": {
        "id": "yfQT2SS4a_rF",
        "colab_type": "text"
      },
      "source": [
        "### STEP 3 : Model Architecture \n",
        "\n",
        "\n",
        "###### Input : 4 \n",
        "###### 1 hidden Layer : 8 nodes\n",
        "###### Output : 3"
      ]
    },
    {
      "cell_type": "code",
      "metadata": {
        "id": "h5wxUk3pT8z2",
        "colab_type": "code",
        "colab": {}
      },
      "source": [
        "network = tf.keras.models.Sequential()\n",
        "network.add(tf.keras.layers.Dense(8, activation = 'relu', input_dim = 4))    # Input Layer\n",
        "network.add(tf.keras.layers.Dense(8, activation = 'relu'))    # Hidden Layer\n",
        "network.add(tf.keras.layers.Dropout(0.1))    # Dropout Layer\n",
        "network.add(tf.keras.layers.Dense(3, activation = 'softmax'))    # Output Layer"
      ],
      "execution_count": 0,
      "outputs": []
    },
    {
      "cell_type": "markdown",
      "metadata": {
        "id": "_BJAG_IKa_rS",
        "colab_type": "text"
      },
      "source": [
        " ### STEP 4 : Compilation Step "
      ]
    },
    {
      "cell_type": "code",
      "metadata": {
        "id": "aJmlutBKa_rW",
        "colab_type": "code",
        "colab": {}
      },
      "source": [
        "network.compile(loss='sparse_categorical_crossentropy', \n",
        "                optimizer='adam', \n",
        "                metrics=['accuracy'])"
      ],
      "execution_count": 0,
      "outputs": []
    },
    {
      "cell_type": "markdown",
      "metadata": {
        "id": "HzaSOa6Ja_rf",
        "colab_type": "text"
      },
      "source": [
        "### STEP 5 : Evaluation "
      ]
    },
    {
      "cell_type": "code",
      "metadata": {
        "id": "tUWVEV94a_ri",
        "colab_type": "code",
        "outputId": "1702ec7c-9c11-4d09-a4b5-f99bc78fd965",
        "colab": {
          "base_uri": "https://localhost:8080/",
          "height": 1000
        }
      },
      "source": [
        "target_labels = train_labels.replace(class_names, new_label)\n",
        "network.fit(train_features, target_labels, epochs=100)\n",
        "test_target_labels = test_labels.replace(class_names, new_label)\n",
        "test_loss, test_accuracy = network.evaluate(test_features, test_target_labels)\n",
        "print(\"Accuracy :\", test_accuracy)\n",
        "print(\"Losses :\", test_loss)"
      ],
      "execution_count": 17,
      "outputs": [
        {
          "output_type": "stream",
          "text": [
            "WARNING:tensorflow:Falling back from v2 loop because of error: Failed to find data adapter that can handle input: <class 'pandas.core.frame.DataFrame'>, <class 'NoneType'>\n",
            "Train on 120 samples\n",
            "Epoch 1/100\n",
            "120/120 [==============================] - 0s 635us/sample - loss: 2.5296 - accuracy: 0.2833\n",
            "Epoch 2/100\n",
            "120/120 [==============================] - 0s 64us/sample - loss: 2.2427 - accuracy: 0.3250\n",
            "Epoch 3/100\n",
            "120/120 [==============================] - 0s 62us/sample - loss: 1.9679 - accuracy: 0.3500\n",
            "Epoch 4/100\n",
            "120/120 [==============================] - 0s 68us/sample - loss: 1.6863 - accuracy: 0.3750\n",
            "Epoch 5/100\n",
            "120/120 [==============================] - 0s 66us/sample - loss: 1.5056 - accuracy: 0.3417\n",
            "Epoch 6/100\n",
            "120/120 [==============================] - 0s 64us/sample - loss: 1.5244 - accuracy: 0.3417\n",
            "Epoch 7/100\n",
            "120/120 [==============================] - 0s 65us/sample - loss: 1.2999 - accuracy: 0.3333\n",
            "Epoch 8/100\n",
            "120/120 [==============================] - 0s 68us/sample - loss: 1.1583 - accuracy: 0.3750\n",
            "Epoch 9/100\n",
            "120/120 [==============================] - 0s 72us/sample - loss: 1.0753 - accuracy: 0.4083\n",
            "Epoch 10/100\n",
            "120/120 [==============================] - 0s 69us/sample - loss: 1.1393 - accuracy: 0.5000\n",
            "Epoch 11/100\n",
            "120/120 [==============================] - 0s 67us/sample - loss: 1.1918 - accuracy: 0.4500\n",
            "Epoch 12/100\n",
            "120/120 [==============================] - 0s 66us/sample - loss: 1.1295 - accuracy: 0.4417\n",
            "Epoch 13/100\n",
            "120/120 [==============================] - 0s 69us/sample - loss: 1.3437 - accuracy: 0.3833\n",
            "Epoch 14/100\n",
            "120/120 [==============================] - 0s 66us/sample - loss: 1.1167 - accuracy: 0.4583\n",
            "Epoch 15/100\n",
            "120/120 [==============================] - 0s 64us/sample - loss: 1.2267 - accuracy: 0.4667\n",
            "Epoch 16/100\n",
            "120/120 [==============================] - 0s 65us/sample - loss: 0.9165 - accuracy: 0.5583\n",
            "Epoch 17/100\n",
            "120/120 [==============================] - 0s 65us/sample - loss: 1.1472 - accuracy: 0.5500\n",
            "Epoch 18/100\n",
            "120/120 [==============================] - 0s 61us/sample - loss: 1.1515 - accuracy: 0.4750\n",
            "Epoch 19/100\n",
            "120/120 [==============================] - 0s 57us/sample - loss: 1.2325 - accuracy: 0.5333\n",
            "Epoch 20/100\n",
            "120/120 [==============================] - 0s 61us/sample - loss: 1.0698 - accuracy: 0.5167\n",
            "Epoch 21/100\n",
            "120/120 [==============================] - 0s 64us/sample - loss: 1.0267 - accuracy: 0.5167\n",
            "Epoch 22/100\n",
            "120/120 [==============================] - 0s 72us/sample - loss: 0.9784 - accuracy: 0.4917\n",
            "Epoch 23/100\n",
            "120/120 [==============================] - 0s 72us/sample - loss: 0.9571 - accuracy: 0.5083\n",
            "Epoch 24/100\n",
            "120/120 [==============================] - 0s 64us/sample - loss: 1.2694 - accuracy: 0.4333\n",
            "Epoch 25/100\n",
            "120/120 [==============================] - 0s 86us/sample - loss: 1.1526 - accuracy: 0.4917\n",
            "Epoch 26/100\n",
            "120/120 [==============================] - 0s 99us/sample - loss: 1.0523 - accuracy: 0.5250\n",
            "Epoch 27/100\n",
            "120/120 [==============================] - 0s 91us/sample - loss: 0.9929 - accuracy: 0.5250\n",
            "Epoch 28/100\n",
            "120/120 [==============================] - 0s 68us/sample - loss: 1.1536 - accuracy: 0.4750\n",
            "Epoch 29/100\n",
            "120/120 [==============================] - 0s 71us/sample - loss: 0.9800 - accuracy: 0.6333\n",
            "Epoch 30/100\n",
            "120/120 [==============================] - 0s 70us/sample - loss: 0.9613 - accuracy: 0.6750\n",
            "Epoch 31/100\n",
            "120/120 [==============================] - 0s 64us/sample - loss: 0.9900 - accuracy: 0.7167\n",
            "Epoch 32/100\n",
            "120/120 [==============================] - 0s 64us/sample - loss: 0.8375 - accuracy: 0.7500\n",
            "Epoch 33/100\n",
            "120/120 [==============================] - 0s 90us/sample - loss: 0.9282 - accuracy: 0.6917\n",
            "Epoch 34/100\n",
            "120/120 [==============================] - 0s 72us/sample - loss: 0.9771 - accuracy: 0.7333\n",
            "Epoch 35/100\n",
            "120/120 [==============================] - 0s 67us/sample - loss: 1.0513 - accuracy: 0.6833\n",
            "Epoch 36/100\n",
            "120/120 [==============================] - 0s 71us/sample - loss: 1.0745 - accuracy: 0.6750\n",
            "Epoch 37/100\n",
            "120/120 [==============================] - 0s 112us/sample - loss: 0.8507 - accuracy: 0.7750\n",
            "Epoch 38/100\n",
            "120/120 [==============================] - 0s 89us/sample - loss: 0.9263 - accuracy: 0.7167\n",
            "Epoch 39/100\n",
            "120/120 [==============================] - 0s 96us/sample - loss: 0.9056 - accuracy: 0.7667\n",
            "Epoch 40/100\n",
            "120/120 [==============================] - 0s 77us/sample - loss: 1.0644 - accuracy: 0.6750\n",
            "Epoch 41/100\n",
            "120/120 [==============================] - 0s 66us/sample - loss: 0.9263 - accuracy: 0.7167\n",
            "Epoch 42/100\n",
            "120/120 [==============================] - 0s 69us/sample - loss: 0.9326 - accuracy: 0.7167\n",
            "Epoch 43/100\n",
            "120/120 [==============================] - 0s 104us/sample - loss: 0.8564 - accuracy: 0.7417\n",
            "Epoch 44/100\n",
            "120/120 [==============================] - 0s 75us/sample - loss: 0.8252 - accuracy: 0.7583\n",
            "Epoch 45/100\n",
            "120/120 [==============================] - 0s 76us/sample - loss: 0.8903 - accuracy: 0.7583\n",
            "Epoch 46/100\n",
            "120/120 [==============================] - 0s 77us/sample - loss: 0.9271 - accuracy: 0.6750\n",
            "Epoch 47/100\n",
            "120/120 [==============================] - 0s 94us/sample - loss: 0.9744 - accuracy: 0.7167\n",
            "Epoch 48/100\n",
            "120/120 [==============================] - 0s 113us/sample - loss: 0.8167 - accuracy: 0.7917\n",
            "Epoch 49/100\n",
            "120/120 [==============================] - 0s 94us/sample - loss: 1.0102 - accuracy: 0.6667\n",
            "Epoch 50/100\n",
            "120/120 [==============================] - 0s 77us/sample - loss: 0.7863 - accuracy: 0.7917\n",
            "Epoch 51/100\n",
            "120/120 [==============================] - 0s 73us/sample - loss: 0.7736 - accuracy: 0.7750\n",
            "Epoch 52/100\n",
            "120/120 [==============================] - 0s 84us/sample - loss: 0.7936 - accuracy: 0.7667\n",
            "Epoch 53/100\n",
            "120/120 [==============================] - 0s 90us/sample - loss: 0.9872 - accuracy: 0.7000\n",
            "Epoch 54/100\n",
            "120/120 [==============================] - 0s 100us/sample - loss: 0.8930 - accuracy: 0.7000\n",
            "Epoch 55/100\n",
            "120/120 [==============================] - 0s 97us/sample - loss: 0.7274 - accuracy: 0.7750\n",
            "Epoch 56/100\n",
            "120/120 [==============================] - 0s 81us/sample - loss: 0.9567 - accuracy: 0.7083\n",
            "Epoch 57/100\n",
            "120/120 [==============================] - 0s 70us/sample - loss: 0.7990 - accuracy: 0.7333\n",
            "Epoch 58/100\n",
            "120/120 [==============================] - 0s 73us/sample - loss: 0.8210 - accuracy: 0.7000\n",
            "Epoch 59/100\n",
            "120/120 [==============================] - 0s 77us/sample - loss: 0.8451 - accuracy: 0.7167\n",
            "Epoch 60/100\n",
            "120/120 [==============================] - 0s 74us/sample - loss: 0.7746 - accuracy: 0.7750\n",
            "Epoch 61/100\n",
            "120/120 [==============================] - 0s 73us/sample - loss: 0.7595 - accuracy: 0.7333\n",
            "Epoch 62/100\n",
            "120/120 [==============================] - 0s 70us/sample - loss: 0.7576 - accuracy: 0.7833\n",
            "Epoch 63/100\n",
            "120/120 [==============================] - 0s 70us/sample - loss: 0.8484 - accuracy: 0.7417\n",
            "Epoch 64/100\n",
            "120/120 [==============================] - 0s 76us/sample - loss: 0.7532 - accuracy: 0.7667\n",
            "Epoch 65/100\n",
            "120/120 [==============================] - 0s 73us/sample - loss: 0.8592 - accuracy: 0.6500\n",
            "Epoch 66/100\n",
            "120/120 [==============================] - 0s 77us/sample - loss: 0.6963 - accuracy: 0.7167\n",
            "Epoch 67/100\n",
            "120/120 [==============================] - 0s 72us/sample - loss: 0.7359 - accuracy: 0.7250\n",
            "Epoch 68/100\n",
            "120/120 [==============================] - 0s 69us/sample - loss: 0.8215 - accuracy: 0.7500\n",
            "Epoch 69/100\n",
            "120/120 [==============================] - 0s 82us/sample - loss: 0.6328 - accuracy: 0.7667\n",
            "Epoch 70/100\n",
            "120/120 [==============================] - 0s 62us/sample - loss: 0.7384 - accuracy: 0.7417\n",
            "Epoch 71/100\n",
            "120/120 [==============================] - 0s 69us/sample - loss: 0.6778 - accuracy: 0.7667\n",
            "Epoch 72/100\n",
            "120/120 [==============================] - 0s 76us/sample - loss: 0.6909 - accuracy: 0.8000\n",
            "Epoch 73/100\n",
            "120/120 [==============================] - 0s 74us/sample - loss: 0.6874 - accuracy: 0.8000\n",
            "Epoch 74/100\n",
            "120/120 [==============================] - 0s 74us/sample - loss: 0.6226 - accuracy: 0.8000\n",
            "Epoch 75/100\n",
            "120/120 [==============================] - 0s 72us/sample - loss: 0.6166 - accuracy: 0.8000\n",
            "Epoch 76/100\n",
            "120/120 [==============================] - 0s 74us/sample - loss: 0.6652 - accuracy: 0.7917\n",
            "Epoch 77/100\n",
            "120/120 [==============================] - 0s 74us/sample - loss: 0.6366 - accuracy: 0.8083\n",
            "Epoch 78/100\n",
            "120/120 [==============================] - 0s 78us/sample - loss: 0.6526 - accuracy: 0.7583\n",
            "Epoch 79/100\n",
            "120/120 [==============================] - 0s 75us/sample - loss: 0.6050 - accuracy: 0.8167\n",
            "Epoch 80/100\n",
            "120/120 [==============================] - 0s 68us/sample - loss: 0.6599 - accuracy: 0.7750\n",
            "Epoch 81/100\n",
            "120/120 [==============================] - 0s 72us/sample - loss: 0.5891 - accuracy: 0.8250\n",
            "Epoch 82/100\n",
            "120/120 [==============================] - 0s 132us/sample - loss: 0.6254 - accuracy: 0.8250\n",
            "Epoch 83/100\n",
            "120/120 [==============================] - 0s 79us/sample - loss: 0.6529 - accuracy: 0.7833\n",
            "Epoch 84/100\n",
            "120/120 [==============================] - 0s 74us/sample - loss: 0.5444 - accuracy: 0.8750\n",
            "Epoch 85/100\n",
            "120/120 [==============================] - 0s 70us/sample - loss: 0.5403 - accuracy: 0.8167\n",
            "Epoch 86/100\n",
            "120/120 [==============================] - 0s 65us/sample - loss: 0.5886 - accuracy: 0.8250\n",
            "Epoch 87/100\n",
            "120/120 [==============================] - 0s 72us/sample - loss: 0.5878 - accuracy: 0.8250\n",
            "Epoch 88/100\n",
            "120/120 [==============================] - 0s 64us/sample - loss: 0.6016 - accuracy: 0.7917\n",
            "Epoch 89/100\n",
            "120/120 [==============================] - 0s 99us/sample - loss: 0.6343 - accuracy: 0.7417\n",
            "Epoch 90/100\n",
            "120/120 [==============================] - 0s 142us/sample - loss: 0.6284 - accuracy: 0.8083\n",
            "Epoch 91/100\n",
            "120/120 [==============================] - 0s 80us/sample - loss: 0.6297 - accuracy: 0.7583\n",
            "Epoch 92/100\n",
            "120/120 [==============================] - 0s 65us/sample - loss: 0.5463 - accuracy: 0.7833\n",
            "Epoch 93/100\n",
            "120/120 [==============================] - 0s 79us/sample - loss: 0.5841 - accuracy: 0.7833\n",
            "Epoch 94/100\n",
            "120/120 [==============================] - 0s 79us/sample - loss: 0.5765 - accuracy: 0.8000\n",
            "Epoch 95/100\n",
            "120/120 [==============================] - 0s 76us/sample - loss: 0.6263 - accuracy: 0.7500\n",
            "Epoch 96/100\n",
            "120/120 [==============================] - 0s 81us/sample - loss: 0.4836 - accuracy: 0.8500\n",
            "Epoch 97/100\n",
            "120/120 [==============================] - 0s 97us/sample - loss: 0.5422 - accuracy: 0.8167\n",
            "Epoch 98/100\n",
            "120/120 [==============================] - 0s 85us/sample - loss: 0.5930 - accuracy: 0.8000\n",
            "Epoch 99/100\n",
            "120/120 [==============================] - 0s 80us/sample - loss: 0.5400 - accuracy: 0.8333\n",
            "Epoch 100/100\n",
            "120/120 [==============================] - 0s 88us/sample - loss: 0.5704 - accuracy: 0.7833\n",
            "WARNING:tensorflow:Falling back from v2 loop because of error: Failed to find data adapter that can handle input: <class 'pandas.core.frame.DataFrame'>, <class 'NoneType'>\n",
            "30/30 [==============================] - 0s 925us/sample - loss: 0.4510 - accuracy: 0.8000\n",
            "Accuracy : 0.8\n",
            "Losses : 0.45097655057907104\n"
          ],
          "name": "stdout"
        }
      ]
    },
    {
      "cell_type": "markdown",
      "metadata": {
        "id": "qZKA7BEDa_rp",
        "colab_type": "text"
      },
      "source": [
        "### STEP 6 : Prediction "
      ]
    },
    {
      "cell_type": "code",
      "metadata": {
        "id": "NPiyIr5da_rt",
        "colab_type": "code",
        "outputId": "db192cc3-4937-4c49-859c-52cec7887828",
        "colab": {
          "base_uri": "https://localhost:8080/",
          "height": 1000
        }
      },
      "source": [
        "predictions = network.predict(test_features)\n",
        "i = 0\n",
        "for values in predictions:\n",
        "  i += 1\n",
        "  print(\"Predictions {}\".format(i))\n",
        "  print(f\"{class_names[0]} : {values[0] * 100.0}%\")\n",
        "  print(f\"{class_names[1]} : {values[1] * 100.0}%\")\n",
        "  print(f\"{class_names[2]} : {values[2] * 100.0}%\")"
      ],
      "execution_count": 18,
      "outputs": [
        {
          "output_type": "stream",
          "text": [
            "WARNING:tensorflow:Falling back from v2 loop because of error: Failed to find data adapter that can handle input: <class 'pandas.core.frame.DataFrame'>, <class 'NoneType'>\n",
            "Predictions 1\n",
            "Setosa : 84.37005877494812%\n",
            "Versicolor : 14.56388384103775%\n",
            "Virginica : 1.0660508647561073%\n",
            "Predictions 2\n",
            "Setosa : 5.938209220767021%\n",
            "Versicolor : 44.08280551433563%\n",
            "Virginica : 49.97898042201996%\n",
            "Predictions 3\n",
            "Setosa : 86.4290714263916%\n",
            "Versicolor : 12.958478927612305%\n",
            "Virginica : 0.6124514155089855%\n",
            "Predictions 4\n",
            "Setosa : 0.6319213658571243%\n",
            "Versicolor : 24.911074340343475%\n",
            "Virginica : 74.45700764656067%\n",
            "Predictions 5\n",
            "Setosa : 26.454192399978638%\n",
            "Versicolor : 49.852538108825684%\n",
            "Virginica : 23.693260550498962%\n",
            "Predictions 6\n",
            "Setosa : 2.1675098687410355%\n",
            "Versicolor : 33.42971205711365%\n",
            "Virginica : 64.40277695655823%\n",
            "Predictions 7\n",
            "Setosa : 81.53175115585327%\n",
            "Versicolor : 16.94646030664444%\n",
            "Virginica : 1.5217862091958523%\n",
            "Predictions 8\n",
            "Setosa : 1.6633657738566399%\n",
            "Versicolor : 30.372995138168335%\n",
            "Virginica : 67.96364188194275%\n",
            "Predictions 9\n",
            "Setosa : 6.33886530995369%\n",
            "Versicolor : 46.76213264465332%\n",
            "Virginica : 46.89900279045105%\n",
            "Predictions 10\n",
            "Setosa : 8.783406764268875%\n",
            "Versicolor : 47.486382722854614%\n",
            "Virginica : 43.73020827770233%\n",
            "Predictions 11\n",
            "Setosa : 4.755454882979393%\n",
            "Versicolor : 42.026329040527344%\n",
            "Virginica : 53.218209743499756%\n",
            "Predictions 12\n",
            "Setosa : 84.22223329544067%\n",
            "Versicolor : 14.783835411071777%\n",
            "Virginica : 0.9939251467585564%\n",
            "Predictions 13\n",
            "Setosa : 84.5497190952301%\n",
            "Versicolor : 14.523167908191681%\n",
            "Virginica : 0.9271210059523582%\n",
            "Predictions 14\n",
            "Setosa : 7.956001162528992%\n",
            "Versicolor : 46.488237380981445%\n",
            "Virginica : 45.55576741695404%\n",
            "Predictions 15\n",
            "Setosa : 13.247726857662201%\n",
            "Versicolor : 56.36632442474365%\n",
            "Virginica : 30.385953187942505%\n",
            "Predictions 16\n",
            "Setosa : 1.9631234928965569%\n",
            "Versicolor : 32.84210562705994%\n",
            "Virginica : 65.19476771354675%\n",
            "Predictions 17\n",
            "Setosa : 1.0517101734876633%\n",
            "Versicolor : 23.36418777704239%\n",
            "Virginica : 75.58410167694092%\n",
            "Predictions 18\n",
            "Setosa : 84.17229056358337%\n",
            "Versicolor : 14.841537177562714%\n",
            "Virginica : 0.9861691854894161%\n",
            "Predictions 19\n",
            "Setosa : 1.280816737562418%\n",
            "Versicolor : 25.69407820701599%\n",
            "Virginica : 73.02510738372803%\n",
            "Predictions 20\n",
            "Setosa : 86.00471019744873%\n",
            "Versicolor : 13.224072754383087%\n",
            "Virginica : 0.7712169550359249%\n",
            "Predictions 21\n",
            "Setosa : 5.560046434402466%\n",
            "Versicolor : 44.42293047904968%\n",
            "Virginica : 50.017017126083374%\n",
            "Predictions 22\n",
            "Setosa : 85.47255396842957%\n",
            "Versicolor : 13.674098253250122%\n",
            "Virginica : 0.8533465676009655%\n",
            "Predictions 23\n",
            "Setosa : 9.398219734430313%\n",
            "Versicolor : 54.543107748031616%\n",
            "Virginica : 36.05867326259613%\n",
            "Predictions 24\n",
            "Setosa : 1.0572856292128563%\n",
            "Versicolor : 25.46272873878479%\n",
            "Virginica : 73.4799861907959%\n",
            "Predictions 25\n",
            "Setosa : 4.66238297522068%\n",
            "Versicolor : 43.932196497917175%\n",
            "Virginica : 51.40541195869446%\n",
            "Predictions 26\n",
            "Setosa : 83.36113095283508%\n",
            "Versicolor : 15.459215641021729%\n",
            "Virginica : 1.1796541512012482%\n",
            "Predictions 27\n",
            "Setosa : 0.953440647572279%\n",
            "Versicolor : 30.302652716636658%\n",
            "Virginica : 68.74390244483948%\n",
            "Predictions 28\n",
            "Setosa : 13.698618113994598%\n",
            "Versicolor : 55.22157549858093%\n",
            "Virginica : 31.07980489730835%\n",
            "Predictions 29\n",
            "Setosa : 85.06840467453003%\n",
            "Versicolor : 14.025349915027618%\n",
            "Virginica : 0.9062490426003933%\n",
            "Predictions 30\n",
            "Setosa : 4.234648868441582%\n",
            "Versicolor : 38.299134373664856%\n",
            "Virginica : 57.46621489524841%\n"
          ],
          "name": "stdout"
        }
      ]
    },
    {
      "cell_type": "code",
      "metadata": {
        "id": "oeJhN_m4zZ-7",
        "colab_type": "code",
        "outputId": "603b626d-c8a9-4689-b72c-c0471ba8e915",
        "colab": {
          "base_uri": "https://localhost:8080/",
          "height": 191
        }
      },
      "source": [
        "predict_value = 6\n",
        "print(\"Predictions\")\n",
        "print(f\"{class_names[0]} : {predictions[predict_value][0] * 100.0}%\")\n",
        "print(f\"{class_names[1]} : {predictions[predict_value][1] * 100.0}%\")\n",
        "print(f\"{class_names[2]} : {predictions[predict_value][2] * 100.0}%\")\n",
        "def predict_ans(x, y):\n",
        "  if (x[0] > x[1]) & (x[0] > x[2]):\n",
        "    result = y[0]\n",
        "  elif (x[1] > x[0]) & (x[1] > x[2]):\n",
        "    result = y[1]\n",
        "  else:\n",
        "    result = y[2]\n",
        "  return result\n",
        "print(\"\\nPredicted Answer\")\n",
        "print(predict_ans(predictions[predict_value], class_names))\n",
        "print(\"\\nActual Answer\")\n",
        "print(f\"{test_labels.iloc[predict_value]}\")"
      ],
      "execution_count": 29,
      "outputs": [
        {
          "output_type": "stream",
          "text": [
            "Predictions\n",
            "Setosa : 81.53175115585327%\n",
            "Versicolor : 16.94646030664444%\n",
            "Virginica : 1.5217862091958523%\n",
            "\n",
            "Predicted Answer\n",
            "Setosa\n",
            "\n",
            "Actual Answer\n",
            "Setosa\n"
          ],
          "name": "stdout"
        }
      ]
    },
    {
      "cell_type": "code",
      "metadata": {
        "id": "xdZgcwE61Ko2",
        "colab_type": "code",
        "colab": {}
      },
      "source": [
        ""
      ],
      "execution_count": 0,
      "outputs": []
    }
  ]
}